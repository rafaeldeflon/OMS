{
 "cells": [
  {
   "cell_type": "markdown",
   "metadata": {},
   "source": [
    "# Objetivos e Índice"
   ]
  },
  {
   "cell_type": "markdown",
   "metadata": {},
   "source": [
    "#### Objetivos"
   ]
  },
  {
   "cell_type": "markdown",
   "metadata": {},
   "source": [
    "Neste notebook a ideia principal é explorar/modelar as bases de trabalho"
   ]
  },
  {
   "cell_type": "markdown",
   "metadata": {},
   "source": [
    "#### Índice"
   ]
  },
  {
   "cell_type": "markdown",
   "metadata": {},
   "source": [
    "- 0.Imports: há a importação das libs e bases\n",
    "\n",
    "- 1.Análise descritiva: buscando algumas informações descritivas das bases"
   ]
  },
  {
   "cell_type": "markdown",
   "metadata": {},
   "source": [
    "# 0.Imports"
   ]
  },
  {
   "cell_type": "code",
   "execution_count": 8,
   "metadata": {},
   "outputs": [
    {
     "name": "stdout",
     "output_type": "stream",
     "text": [
      "   V1  V2      grau       proximidade  prob_V1_V2\n",
      "0   1   2  trabalho  visita_frequente    0.589462\n",
      "1   1   3  trabalho       visita_rara    0.708465\n",
      "2   2   4  trabalho     visita_casual         NaN\n",
      "3   2   5  trabalho       visita_rara    0.638842\n",
      "4   3   6    amigos        mora_junto         NaN\n",
      "   name  idade estado_civil  qt_filhos  estuda  trabalha  pratica_esportes  \\\n",
      "0     1   44.0   divorciado        1.0     1.0       0.0               1.0   \n",
      "1     2   24.0       casado        0.0     0.0       0.0               1.0   \n",
      "2     3   35.0     solteiro        1.0     0.0       0.0               1.0   \n",
      "3     4   50.0       casado        1.0     1.0       1.0               0.0   \n",
      "4     5   30.0     solteiro        2.0     1.0       0.0               1.0   \n",
      "\n",
      "  transporte_mais_utilizado        IMC  \n",
      "0                   publico  22.200956  \n",
      "1                   publico  25.378720  \n",
      "2                particular  19.952393  \n",
      "3                   publico  26.732053  \n",
      "4                   publico  15.295668  \n"
     ]
    }
   ],
   "source": [
    "# Importanto Libs e ferramentas\n",
    "import pandas as pd\n",
    "\n",
    "# Importando os arquivos CSV\n",
    "    # Caminho para os arquivos csv\n",
    "csv_con_path = \"../aux_files/conexoes_espec.csv\"\n",
    "csv_ind_path = \"../aux_files/individuos_espec.csv\"\n",
    "\n",
    "df_con = pd.read_csv(csv_con_path, sep=';')\n",
    "df_ind = pd.read_csv(csv_ind_path, sep=';')\n",
    "\n",
    "# Head\n",
    "print(df_con.head())\n",
    "print(df_ind.head())"
   ]
  },
  {
   "cell_type": "markdown",
   "metadata": {},
   "source": [
    "# 1.Análise Descritiva"
   ]
  },
  {
   "cell_type": "markdown",
   "metadata": {},
   "source": [
    "## 1.1 Indivíduos"
   ]
  },
  {
   "cell_type": "code",
   "execution_count": 27,
   "metadata": {},
   "outputs": [
    {
     "data": {
      "text/plain": [
       "1000000"
      ]
     },
     "execution_count": 27,
     "metadata": {},
     "output_type": "execute_result"
    }
   ],
   "source": [
    "# Contagem de linhas\n",
    "\n",
    "len(df_ind)"
   ]
  },
  {
   "cell_type": "code",
   "execution_count": 13,
   "metadata": {},
   "outputs": [
    {
     "data": {
      "text/plain": [
       "name                           int64\n",
       "idade                        float64\n",
       "estado_civil                  object\n",
       "qt_filhos                    float64\n",
       "estuda                       float64\n",
       "trabalha                     float64\n",
       "pratica_esportes             float64\n",
       "transporte_mais_utilizado     object\n",
       "IMC                          float64\n",
       "dtype: object"
      ]
     },
     "execution_count": 13,
     "metadata": {},
     "output_type": "execute_result"
    }
   ],
   "source": [
    "# Verificando os tipos de dados\n",
    "\n",
    "df_ind.dtypes"
   ]
  },
  {
   "cell_type": "code",
   "execution_count": 21,
   "metadata": {},
   "outputs": [
    {
     "data": {
      "text/plain": [
       "name                              0\n",
       "idade                         95937\n",
       "estado_civil                  50073\n",
       "qt_filhos                     28867\n",
       "estuda                        40130\n",
       "trabalha                       6353\n",
       "pratica_esportes             149124\n",
       "transporte_mais_utilizado     43033\n",
       "IMC                          113870\n",
       "dtype: int64"
      ]
     },
     "metadata": {},
     "output_type": "display_data"
    }
   ],
   "source": [
    "# Verificando valores nulos\n",
    "\n",
    "display(df_ind.isnull().sum())"
   ]
  },
  {
   "cell_type": "code",
   "execution_count": null,
   "metadata": {},
   "outputs": [
    {
     "data": {
      "text/html": [
       "<div>\n",
       "<style scoped>\n",
       "    .dataframe tbody tr th:only-of-type {\n",
       "        vertical-align: middle;\n",
       "    }\n",
       "\n",
       "    .dataframe tbody tr th {\n",
       "        vertical-align: top;\n",
       "    }\n",
       "\n",
       "    .dataframe thead th {\n",
       "        text-align: right;\n",
       "    }\n",
       "</style>\n",
       "<table border=\"1\" class=\"dataframe\">\n",
       "  <thead>\n",
       "    <tr style=\"text-align: right;\">\n",
       "      <th></th>\n",
       "      <th>name</th>\n",
       "      <th>idade</th>\n",
       "      <th>qt_filhos</th>\n",
       "      <th>estuda</th>\n",
       "      <th>trabalha</th>\n",
       "      <th>pratica_esportes</th>\n",
       "      <th>IMC</th>\n",
       "    </tr>\n",
       "  </thead>\n",
       "  <tbody>\n",
       "    <tr>\n",
       "      <th>count</th>\n",
       "      <td>1000000.000000</td>\n",
       "      <td>904063.000000</td>\n",
       "      <td>971133.000000</td>\n",
       "      <td>959870.000000</td>\n",
       "      <td>993647.000000</td>\n",
       "      <td>850876.000000</td>\n",
       "      <td>886130.000000</td>\n",
       "    </tr>\n",
       "    <tr>\n",
       "      <th>mean</th>\n",
       "      <td>500000.500000</td>\n",
       "      <td>30.008431</td>\n",
       "      <td>0.928406</td>\n",
       "      <td>0.442588</td>\n",
       "      <td>0.556739</td>\n",
       "      <td>0.599823</td>\n",
       "      <td>22.472079</td>\n",
       "    </tr>\n",
       "    <tr>\n",
       "      <th>std</th>\n",
       "      <td>288675.278932</td>\n",
       "      <td>10.951566</td>\n",
       "      <td>0.997289</td>\n",
       "      <td>0.496693</td>\n",
       "      <td>0.496771</td>\n",
       "      <td>0.489934</td>\n",
       "      <td>7.073692</td>\n",
       "    </tr>\n",
       "    <tr>\n",
       "      <th>min</th>\n",
       "      <td>1.000000</td>\n",
       "      <td>0.000000</td>\n",
       "      <td>0.000000</td>\n",
       "      <td>0.000000</td>\n",
       "      <td>0.000000</td>\n",
       "      <td>0.000000</td>\n",
       "      <td>4.852828</td>\n",
       "    </tr>\n",
       "    <tr>\n",
       "      <th>25%</th>\n",
       "      <td>250000.750000</td>\n",
       "      <td>22.000000</td>\n",
       "      <td>0.000000</td>\n",
       "      <td>0.000000</td>\n",
       "      <td>0.000000</td>\n",
       "      <td>0.000000</td>\n",
       "      <td>17.420851</td>\n",
       "    </tr>\n",
       "    <tr>\n",
       "      <th>50%</th>\n",
       "      <td>500000.500000</td>\n",
       "      <td>29.000000</td>\n",
       "      <td>1.000000</td>\n",
       "      <td>0.000000</td>\n",
       "      <td>1.000000</td>\n",
       "      <td>1.000000</td>\n",
       "      <td>21.431200</td>\n",
       "    </tr>\n",
       "    <tr>\n",
       "      <th>75%</th>\n",
       "      <td>750000.250000</td>\n",
       "      <td>37.000000</td>\n",
       "      <td>1.000000</td>\n",
       "      <td>1.000000</td>\n",
       "      <td>1.000000</td>\n",
       "      <td>1.000000</td>\n",
       "      <td>26.378197</td>\n",
       "    </tr>\n",
       "    <tr>\n",
       "      <th>max</th>\n",
       "      <td>1000000.000000</td>\n",
       "      <td>124.000000</td>\n",
       "      <td>9.000000</td>\n",
       "      <td>1.000000</td>\n",
       "      <td>1.000000</td>\n",
       "      <td>1.000000</td>\n",
       "      <td>89.158204</td>\n",
       "    </tr>\n",
       "  </tbody>\n",
       "</table>\n",
       "</div>"
      ],
      "text/plain": [
       "                 name          idade      qt_filhos         estuda  \\\n",
       "count  1000000.000000  904063.000000  971133.000000  959870.000000   \n",
       "mean    500000.500000      30.008431       0.928406       0.442588   \n",
       "std     288675.278932      10.951566       0.997289       0.496693   \n",
       "min          1.000000       0.000000       0.000000       0.000000   \n",
       "25%     250000.750000      22.000000       0.000000       0.000000   \n",
       "50%     500000.500000      29.000000       1.000000       0.000000   \n",
       "75%     750000.250000      37.000000       1.000000       1.000000   \n",
       "max    1000000.000000     124.000000       9.000000       1.000000   \n",
       "\n",
       "            trabalha  pratica_esportes            IMC  \n",
       "count  993647.000000     850876.000000  886130.000000  \n",
       "mean        0.556739          0.599823      22.472079  \n",
       "std         0.496771          0.489934       7.073692  \n",
       "min         0.000000          0.000000       4.852828  \n",
       "25%         0.000000          0.000000      17.420851  \n",
       "50%         1.000000          1.000000      21.431200  \n",
       "75%         1.000000          1.000000      26.378197  \n",
       "max         1.000000          1.000000      89.158204  "
      ]
     },
     "metadata": {},
     "output_type": "display_data"
    }
   ],
   "source": [
    "# Análise descritiva das variáveis numéricas\n",
    "\n",
    "display(df_ind.describe())"
   ]
  },
  {
   "cell_type": "code",
   "execution_count": 26,
   "metadata": {},
   "outputs": [
    {
     "data": {
      "text/html": [
       "<div>\n",
       "<style scoped>\n",
       "    .dataframe tbody tr th:only-of-type {\n",
       "        vertical-align: middle;\n",
       "    }\n",
       "\n",
       "    .dataframe tbody tr th {\n",
       "        vertical-align: top;\n",
       "    }\n",
       "\n",
       "    .dataframe thead th {\n",
       "        text-align: right;\n",
       "    }\n",
       "</style>\n",
       "<table border=\"1\" class=\"dataframe\">\n",
       "  <thead>\n",
       "    <tr style=\"text-align: right;\">\n",
       "      <th></th>\n",
       "      <th>estado_civil</th>\n",
       "      <th>transporte_mais_utilizado</th>\n",
       "    </tr>\n",
       "  </thead>\n",
       "  <tbody>\n",
       "    <tr>\n",
       "      <th>count</th>\n",
       "      <td>949927</td>\n",
       "      <td>956967</td>\n",
       "    </tr>\n",
       "    <tr>\n",
       "      <th>unique</th>\n",
       "      <td>4</td>\n",
       "      <td>3</td>\n",
       "    </tr>\n",
       "    <tr>\n",
       "      <th>top</th>\n",
       "      <td>solteiro</td>\n",
       "      <td>publico</td>\n",
       "    </tr>\n",
       "    <tr>\n",
       "      <th>freq</th>\n",
       "      <td>420637</td>\n",
       "      <td>574779</td>\n",
       "    </tr>\n",
       "  </tbody>\n",
       "</table>\n",
       "</div>"
      ],
      "text/plain": [
       "       estado_civil transporte_mais_utilizado\n",
       "count        949927                    956967\n",
       "unique            4                         3\n",
       "top        solteiro                   publico\n",
       "freq         420637                    574779"
      ]
     },
     "metadata": {},
     "output_type": "display_data"
    }
   ],
   "source": [
    "# Variáveis categóricas\n",
    "\n",
    "display(df_ind.describe(include='object'))"
   ]
  },
  {
   "cell_type": "markdown",
   "metadata": {},
   "source": [
    "### 1.2 Conexões"
   ]
  },
  {
   "cell_type": "code",
   "execution_count": 34,
   "metadata": {},
   "outputs": [
    {
     "data": {
      "text/plain": [
       "999999"
      ]
     },
     "execution_count": 34,
     "metadata": {},
     "output_type": "execute_result"
    }
   ],
   "source": [
    "# Contagem de linhas\n",
    "\n",
    "len(df_con)"
   ]
  },
  {
   "cell_type": "code",
   "execution_count": 35,
   "metadata": {},
   "outputs": [
    {
     "data": {
      "text/plain": [
       "V1               int64\n",
       "V2               int64\n",
       "grau            object\n",
       "proximidade     object\n",
       "prob_V1_V2     float64\n",
       "dtype: object"
      ]
     },
     "execution_count": 35,
     "metadata": {},
     "output_type": "execute_result"
    }
   ],
   "source": [
    "# Verificando os tipos de dados\n",
    "\n",
    "df_con.dtypes"
   ]
  },
  {
   "cell_type": "code",
   "execution_count": 36,
   "metadata": {},
   "outputs": [
    {
     "data": {
      "text/plain": [
       "V1                  0\n",
       "V2                  0\n",
       "grau                0\n",
       "proximidade         0\n",
       "prob_V1_V2     500000\n",
       "dtype: int64"
      ]
     },
     "metadata": {},
     "output_type": "display_data"
    }
   ],
   "source": [
    "# Verificando valores nulos\n",
    "\n",
    "display(df_con.isnull().sum())"
   ]
  },
  {
   "cell_type": "code",
   "execution_count": 43,
   "metadata": {},
   "outputs": [
    {
     "data": {
      "text/html": [
       "<div>\n",
       "<style scoped>\n",
       "    .dataframe tbody tr th:only-of-type {\n",
       "        vertical-align: middle;\n",
       "    }\n",
       "\n",
       "    .dataframe tbody tr th {\n",
       "        vertical-align: top;\n",
       "    }\n",
       "\n",
       "    .dataframe thead th {\n",
       "        text-align: right;\n",
       "    }\n",
       "</style>\n",
       "<table border=\"1\" class=\"dataframe\">\n",
       "  <thead>\n",
       "    <tr style=\"text-align: right;\">\n",
       "      <th></th>\n",
       "      <th>V1</th>\n",
       "      <th>V2</th>\n",
       "      <th>prob_V1_V2</th>\n",
       "    </tr>\n",
       "  </thead>\n",
       "  <tbody>\n",
       "    <tr>\n",
       "      <th>count</th>\n",
       "      <td>999999.000000</td>\n",
       "      <td>999999.000000</td>\n",
       "      <td>499999.000000</td>\n",
       "    </tr>\n",
       "    <tr>\n",
       "      <th>mean</th>\n",
       "      <td>250000.250000</td>\n",
       "      <td>500001.000000</td>\n",
       "      <td>0.485162</td>\n",
       "    </tr>\n",
       "    <tr>\n",
       "      <th>std</th>\n",
       "      <td>144337.495129</td>\n",
       "      <td>288674.990257</td>\n",
       "      <td>0.173963</td>\n",
       "    </tr>\n",
       "    <tr>\n",
       "      <th>min</th>\n",
       "      <td>1.000000</td>\n",
       "      <td>2.000000</td>\n",
       "      <td>0.074462</td>\n",
       "    </tr>\n",
       "    <tr>\n",
       "      <th>25%</th>\n",
       "      <td>125000.500000</td>\n",
       "      <td>250001.500000</td>\n",
       "      <td>0.351677</td>\n",
       "    </tr>\n",
       "    <tr>\n",
       "      <th>50%</th>\n",
       "      <td>250000.000000</td>\n",
       "      <td>500001.000000</td>\n",
       "      <td>0.486413</td>\n",
       "    </tr>\n",
       "    <tr>\n",
       "      <th>75%</th>\n",
       "      <td>375000.000000</td>\n",
       "      <td>750000.500000</td>\n",
       "      <td>0.618210</td>\n",
       "    </tr>\n",
       "    <tr>\n",
       "      <th>max</th>\n",
       "      <td>500000.000000</td>\n",
       "      <td>1000000.000000</td>\n",
       "      <td>0.942245</td>\n",
       "    </tr>\n",
       "  </tbody>\n",
       "</table>\n",
       "</div>"
      ],
      "text/plain": [
       "                  V1              V2     prob_V1_V2\n",
       "count  999999.000000   999999.000000  499999.000000\n",
       "mean   250000.250000   500001.000000       0.485162\n",
       "std    144337.495129   288674.990257       0.173963\n",
       "min         1.000000        2.000000       0.074462\n",
       "25%    125000.500000   250001.500000       0.351677\n",
       "50%    250000.000000   500001.000000       0.486413\n",
       "75%    375000.000000   750000.500000       0.618210\n",
       "max    500000.000000  1000000.000000       0.942245"
      ]
     },
     "metadata": {},
     "output_type": "display_data"
    }
   ],
   "source": [
    "# Análise descritiva das variáveis numéricas\n",
    "\n",
    "display(df_con.describe())"
   ]
  },
  {
   "cell_type": "code",
   "execution_count": 39,
   "metadata": {},
   "outputs": [
    {
     "data": {
      "text/html": [
       "<div>\n",
       "<style scoped>\n",
       "    .dataframe tbody tr th:only-of-type {\n",
       "        vertical-align: middle;\n",
       "    }\n",
       "\n",
       "    .dataframe tbody tr th {\n",
       "        vertical-align: top;\n",
       "    }\n",
       "\n",
       "    .dataframe thead th {\n",
       "        text-align: right;\n",
       "    }\n",
       "</style>\n",
       "<table border=\"1\" class=\"dataframe\">\n",
       "  <thead>\n",
       "    <tr style=\"text-align: right;\">\n",
       "      <th></th>\n",
       "      <th>grau</th>\n",
       "      <th>proximidade</th>\n",
       "    </tr>\n",
       "  </thead>\n",
       "  <tbody>\n",
       "    <tr>\n",
       "      <th>count</th>\n",
       "      <td>999999</td>\n",
       "      <td>999999</td>\n",
       "    </tr>\n",
       "    <tr>\n",
       "      <th>unique</th>\n",
       "      <td>3</td>\n",
       "      <td>4</td>\n",
       "    </tr>\n",
       "    <tr>\n",
       "      <th>top</th>\n",
       "      <td>trabalho</td>\n",
       "      <td>visita_rara</td>\n",
       "    </tr>\n",
       "    <tr>\n",
       "      <th>freq</th>\n",
       "      <td>333548</td>\n",
       "      <td>400238</td>\n",
       "    </tr>\n",
       "  </tbody>\n",
       "</table>\n",
       "</div>"
      ],
      "text/plain": [
       "            grau  proximidade\n",
       "count     999999       999999\n",
       "unique         3            4\n",
       "top     trabalho  visita_rara\n",
       "freq      333548       400238"
      ]
     },
     "metadata": {},
     "output_type": "display_data"
    }
   ],
   "source": [
    "# Variáveis categóricas\n",
    "\n",
    "display(df_con.describe(include='object'))"
   ]
  }
 ],
 "metadata": {
  "kernelspec": {
   "display_name": "venv",
   "language": "python",
   "name": "python3"
  },
  "language_info": {
   "codemirror_mode": {
    "name": "ipython",
    "version": 3
   },
   "file_extension": ".py",
   "mimetype": "text/x-python",
   "name": "python",
   "nbconvert_exporter": "python",
   "pygments_lexer": "ipython3",
   "version": "3.12.0"
  }
 },
 "nbformat": 4,
 "nbformat_minor": 2
}
