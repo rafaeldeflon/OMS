{
 "cells": [
  {
   "cell_type": "markdown",
   "metadata": {},
   "source": [
    "# Objetivo do Notebook"
   ]
  },
  {
   "cell_type": "markdown",
   "metadata": {},
   "source": [
    "Neste arquivo, o objetivo é configurar uma API para uso do modelo e executá-la"
   ]
  },
  {
   "cell_type": "markdown",
   "metadata": {},
   "source": [
    "# 0.Imports"
   ]
  },
  {
   "cell_type": "markdown",
   "metadata": {},
   "source": []
  },
  {
   "cell_type": "code",
   "execution_count": 43,
   "metadata": {},
   "outputs": [],
   "source": [
    "from fastapi import FastAPI\n",
    "from pydantic import BaseModel\n",
    "import joblib\n",
    "import numpy as np\n",
    "import requests"
   ]
  },
  {
   "cell_type": "markdown",
   "metadata": {},
   "source": [
    "# 1. Configurando a API"
   ]
  },
  {
   "cell_type": "markdown",
   "metadata": {},
   "source": [
    "- #### Endpoint\n",
    "\n",
    "> POST /predict\n",
    "\n",
    "- #### Descrição\n",
    "Esse endpoint recebe uma requisição com um vetor de características (features) sobre duas pessoas (V1 e V2) e retorna a predição da probabilidade de ligação entre elas, segundo o modelo treinado.\n",
    "\n",
    "- #### Formato do JSON de entrada\n",
    "O JSON enviado deve conter um único campo chamado \"data\", cujo valor é uma lista ordenada de 20 elementos, representando as seguintes variáveis:\n",
    "\n",
    "| Ordem | Nome                            | Tipo    | Descrição                                            |\n",
    "| ----- | ------------------------------- | ------- | ---------------------------------------------------- |\n",
    "| 1     | V1                              | `int`   | ID numérico da primeira pessoa                       |\n",
    "| 2     | V2                              | `int`   | ID numérico da segunda pessoa                        |\n",
    "| 3     | grau                            | `str`   | Grau de relacionamento (ex: `\"pai\"`, `\"irmão\"`)      |\n",
    "| 4     | proximidade                     | `str`   | Nível de proximidade (ex: `\"próximo\"`, `\"distante\"`) |\n",
    "| 5     | idade\\_V1                       | `int`   | Idade da pessoa V1                                   |\n",
    "| 6     | estado\\_civil\\_V1               | `str`   | Estado civil de V1 (ex: `\"solteiro\"`, `\"casado\"`)    |\n",
    "| 7     | qt\\_filhos\\_V1                  | `int`   | Quantidade de filhos de V1                           |\n",
    "| 8     | estuda\\_V1                      | `int`   | Estuda? 1 = Sim, 0 = Não                             |\n",
    "| 9     | trabalha\\_V1                    | `int`   | Trabalha? 1 = Sim, 0 = Não                           |\n",
    "| 10    | pratica\\_esportes\\_V1           | `int`   | Pratica esportes? 1 = Sim, 0 = Não                   |\n",
    "| 11    | transporte\\_mais\\_utilizado\\_V1 | `str`   | Meio de transporte mais usado por V1 (ex: `\"carro\"`) |\n",
    "| 12    | IMC\\_V1                         | `float` | Índice de Massa Corporal (IMC) de V1                 |\n",
    "| 13    | idade\\_V2                       | `int`   | Idade da pessoa V2                                   |\n",
    "| 14    | estado\\_civil\\_V2               | `str`   | Estado civil de V2                                   |\n",
    "| 15    | qt\\_filhos\\_V2                  | `int`   | Quantidade de filhos de V2                           |\n",
    "| 16    | estuda\\_V2                      | `int`   | Estuda? 1 = Sim, 0 = Não                             |\n",
    "| 17    | trabalha\\_V2                    | `int`   | Trabalha? 1 = Sim, 0 = Não                           |\n",
    "| 18    | pratica\\_esportes\\_V2           | `int`   | Pratica esportes? 1 = Sim, 0 = Não                   |\n",
    "| 19    | transporte\\_mais\\_utilizado\\_V2 | `str`   | Meio de transporte mais usado por V2                 |\n",
    "| 20    | IMC\\_V2                         | `float` | Índice de Massa Corporal (IMC) de V2                 |\n",
    "\n",
    "- #### Exemplo de JSON válido:\n",
    "\n",
    "{\n",
    "  \"data\": [1, 2, \"pai\", \"próximo\", 32, \"solteiro\", 0, 1, 1, 1, \"carro\", 24.5,\n",
    "           29, \"casado\", 1, 0, 1, 0, \"ônibus\", 22.3]\n",
    "}\n",
    "\n",
    "- #### Resposta (JSON)\n",
    "\n",
    "{\n",
    "  \"prediction\": 0.0573\n",
    "}\n",
    "prediction: Valor predito pelo modelo (probabilidade estimada de relacionamento entre V1 e V2).\n",
    "\n",
    "- #### Possíveis erros\n",
    "\n",
    "| Código | Motivo                                        |\n",
    "| ------ | --------------------------------------------- |\n",
    "| 400    | JSON malformado ou quantidade errada de dados |\n",
    "| 500    | Erro interno do modelo ou do processamento    |"
   ]
  },
  {
   "cell_type": "markdown",
   "metadata": {},
   "source": [
    "# 2. Executando a API"
   ]
  },
  {
   "cell_type": "markdown",
   "metadata": {},
   "source": [
    "Executando a API no terminal"
   ]
  },
  {
   "cell_type": "code",
   "execution_count": null,
   "metadata": {},
   "outputs": [],
   "source": [
    "url = 'http://127.0.0.1:8000/predict'"
   ]
  },
  {
   "cell_type": "markdown",
   "metadata": {},
   "source": [
    "# 3. Testes"
   ]
  },
  {
   "cell_type": "code",
   "execution_count": null,
   "metadata": {},
   "outputs": [
    {
     "name": "stdout",
     "output_type": "stream",
     "text": [
      "Teste 1: {'prediction': 0.3772524297237396}\n"
     ]
    }
   ],
   "source": [
    "# Teste com JSON em formato correto\n",
    "\n",
    "payload = {\n",
    "    \"data\": [10, 25, \"irmão\", \"distante\", 40, \"casado\", 2, 0, 1, 0, \"bicicleta\", 27.8,\n",
    "             35, \"solteiro\", 0, 1, 1, 1, \"metrô\", 23.1]\n",
    "}\n",
    "response = requests.post(url, json=payload)\n",
    "print(\"Teste 1:\", response.json())"
   ]
  },
  {
   "cell_type": "code",
   "execution_count": null,
   "metadata": {},
   "outputs": [
    {
     "name": "stdout",
     "output_type": "stream",
     "text": [
      "Teste 2: {'prediction': 0.7564266324043274}\n"
     ]
    }
   ],
   "source": [
    "# Teste com JSON em formato correto\n",
    "\n",
    "payload = {\n",
    "    \"data\": [100, 200, \"tio\", \"muito próximo\", 99, \"divorciado\", 8, 0, 0, 1, \"ônibus\", 18.0,\n",
    "             5, \"solteiro\", 0, 1, 0, 1, \"carro\", 30.0]\n",
    "}\n",
    "response = requests.post(url, json=payload)\n",
    "print(\"Teste 2:\", response.json())"
   ]
  },
  {
   "cell_type": "code",
   "execution_count": null,
   "metadata": {},
   "outputs": [
    {
     "name": "stdout",
     "output_type": "stream",
     "text": [
      "Teste 3: {'error': \"JSON deve conter o campo 'data'\"}\n"
     ]
    }
   ],
   "source": [
    "# Teste de JSON inválido (campo 'data' ausente)\n",
    "\n",
    "payload = {\n",
    "    \"input\": [1, 2, \"pai\", \"próximo\", 32, \"solteiro\", 0, 1, 1, 1, \"carro\", 24.5,\n",
    "              29, \"casado\", 1, 0, 1, 0, \"ônibus\", 22.3]\n",
    "}\n",
    "response = requests.post(url, json=payload)\n",
    "print(\"Teste 3:\", response.json())"
   ]
  },
  {
   "cell_type": "code",
   "execution_count": null,
   "metadata": {},
   "outputs": [
    {
     "name": "stdout",
     "output_type": "stream",
     "text": [
      "Teste 4: {'error': 'Esperado 20 features, recebido 19'}\n"
     ]
    }
   ],
   "source": [
    "# Teste de JSON inválido (quantidade incorreta de features, 19 ao invés de 20)\n",
    "\n",
    "payload = {\n",
    "    \"data\": [1, 2, \"pai\", \"próximo\", 32, \"solteiro\", 0, 1, 1, 1, \"carro\", 24.5,\n",
    "             29, \"casado\", 1, 0, 1, 0, \"ônibus\"]  # Faltando IMC_V2\n",
    "}\n",
    "response = requests.post(url, json=payload)\n",
    "print(\"Teste 4:\", response.json())"
   ]
  },
  {
   "cell_type": "code",
   "execution_count": null,
   "metadata": {},
   "outputs": [
    {
     "name": "stdout",
     "output_type": "stream",
     "text": [
      "Teste 5: {'error': \"Cannot use mean strategy with non-numeric data:\\ncould not convert string to float: 'trinta e dois'\"}\n"
     ]
    }
   ],
   "source": [
    "# Teste de JSON inválido (idade como string)\n",
    "\n",
    "payload = {\n",
    "    \"data\": [1, 2, \"pai\", \"próximo\", \"trinta e dois\", \"solteiro\", 0, 1, 1, 1, \"carro\", 24.5,\n",
    "             29, \"casado\", 1, 0, 1, 0, \"ônibus\", 22.3]\n",
    "}\n",
    "response = requests.post(url, json=payload)\n",
    "print(\"Teste 5:\", response.json())"
   ]
  },
  {
   "cell_type": "code",
   "execution_count": 51,
   "metadata": {},
   "outputs": [
    {
     "name": "stdout",
     "output_type": "stream",
     "text": [
      "Teste 6: {'prediction': 0.3956749439239502}\n"
     ]
    }
   ],
   "source": [
    "# Teste com JSON em formato correto\n",
    "\n",
    "payload = {\n",
    "    \"data\": [1, 2, \"amigo\", \"distante\", None, \"casado\", 2, 1, 1, 0, \"carro\", None,\n",
    "             35, \"solteiro\", 0, 0, 1, 1, \"bicicleta\", 25.0]\n",
    "}\n",
    "response = requests.post(url, json=payload)\n",
    "print(\"Teste 6:\", response.json())"
   ]
  }
 ],
 "metadata": {
  "kernelspec": {
   "display_name": "venv",
   "language": "python",
   "name": "python3"
  },
  "language_info": {
   "codemirror_mode": {
    "name": "ipython",
    "version": 3
   },
   "file_extension": ".py",
   "mimetype": "text/x-python",
   "name": "python",
   "nbconvert_exporter": "python",
   "pygments_lexer": "ipython3",
   "version": "3.12.0"
  }
 },
 "nbformat": 4,
 "nbformat_minor": 2
}
