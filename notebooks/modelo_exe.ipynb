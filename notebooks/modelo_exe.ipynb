{
 "cells": [
  {
   "cell_type": "markdown",
   "metadata": {},
   "source": [
    "# Objetivo do Notebook"
   ]
  },
  {
   "cell_type": "markdown",
   "metadata": {},
   "source": [
    "Neste arquivo, o objetivo é documentar e testar a API ('app/api_modelo.py') configurada para o modelo treinado no jupyter notebook 'notebooks/estudo_oms.ipynb'."
   ]
  },
  {
   "cell_type": "markdown",
   "metadata": {},
   "source": [
    "# 0.Imports"
   ]
  },
  {
   "cell_type": "markdown",
   "metadata": {},
   "source": [
    "Importamos a lib requests para enviar o JSON de teste do modelo"
   ]
  },
  {
   "cell_type": "code",
   "execution_count": 7,
   "metadata": {},
   "outputs": [],
   "source": [
    "import requests"
   ]
  },
  {
   "cell_type": "markdown",
   "metadata": {},
   "source": [
    "# 1. Configurando a API"
   ]
  },
  {
   "cell_type": "markdown",
   "metadata": {},
   "source": [
    "### Documentação da API\n",
    "\n",
    "- #### Execução da API\n",
    "\n",
    "Arquivo: app/api_modelo.py\n",
    "\n",
    "- #### Endpoint\n",
    "\n",
    "> POST /predict\n",
    "\n",
    "- #### Descrição\n",
    "Esse endpoint recebe uma requisição com um vetor de características (features) sobre duas pessoas (V1 e V2) e retorna a predição da probabilidade de 'taxa de contagio' entre elas, segundo o modelo treinado.\n",
    "\n",
    "- #### Formato do JSON de entrada\n",
    "O JSON enviado deve conter um único campo chamado \"data\", cujo valor é uma lista ordenada de 20 elementos, representando as seguintes variáveis:\n",
    "\n",
    "| Ordem | Nome                            | Tipo    | Descrição                                            |\n",
    "| ----- | ------------------------------- | ------- | ---------------------------------------------------- |\n",
    "| 1     | grau                            | `str`   | Grau de relacionamento (ex: `\"trabalho\"`)            |\n",
    "| 2     | proximidade                     | `str`   | Frequência de contato (ex: `\"visita_frequente\"`)     |\n",
    "| 3     | idade\\_V1                       | `int`   | Idade da pessoa V1                                   |\n",
    "| 4     | estado\\_civil\\_V1               | `str`   | Estado civil de V1 (ex: `\"solteiro\"`, `\"casado\"`)    |\n",
    "| 5     | qt\\_filhos\\_V1                  | `int`   | Quantidade de filhos de V1                           |\n",
    "| 6     | estuda\\_V1                      | `int`   | Estuda? 1 = Sim, 0 = Não                             |\n",
    "| 7     | trabalha\\_V1                    | `int`   | Trabalha? 1 = Sim, 0 = Não                           |\n",
    "| 8     | pratica\\_esportes\\_V1           | `int`   | Pratica esportes? 1 = Sim, 0 = Não                   |\n",
    "| 9     | transporte\\_mais\\_utilizado\\_V1 | `str`   | Meio de transporte usado por V1 (ex: `\"particular\"`) |\n",
    "| 10    | IMC\\_V1                         | `float` | Índice de Massa Corporal (IMC) de V1                 |\n",
    "| 11    | idade\\_V2                       | `int`   | Idade da pessoa V2                                   |\n",
    "| 12    | estado\\_civil\\_V2               | `str`   | Estado civil de V2                                   |\n",
    "| 13    | qt\\_filhos\\_V2                  | `int`   | Quantidade de filhos de V2                           |\n",
    "| 14    | estuda\\_V2                      | `int`   | Estuda? 1 = Sim, 0 = Não                             |\n",
    "| 15    | trabalha\\_V2                    | `int`   | Trabalha? 1 = Sim, 0 = Não                           |\n",
    "| 16    | pratica\\_esportes\\_V2           | `int`   | Pratica esportes? 1 = Sim, 0 = Não                   |\n",
    "| 17    | transporte\\_mais\\_utilizado\\_V2 | `str`   | Meio de transporte usado por V2                      |\n",
    "| 18    | IMC\\_V2                         | `float` | Índice de Massa Corporal (IMC) de V2                 |\n",
    "\n",
    "\n",
    "- #### Exemplo de JSON válido:\n",
    "\n",
    "{\n",
    "  \"data\": [\"familia\", \"visita_rara\", 32, \"solteiro\", 0, 1, 1, 1, \"particular\", 24.5,\n",
    "           29, \"casado\", 1, 0, 1, 0, \"taxi\", 22.3]\n",
    "}\n",
    "\n",
    "- #### Resposta (JSON)\n",
    "\n",
    "{\n",
    "  \"prediction\": 0.0573\n",
    "}\n",
    "prediction: Valor predito pelo modelo (probabilidade estimada de relacionamento entre V1 e V2).\n",
    "\n",
    "- #### Possíveis erros\n",
    "\n",
    "| Código | Motivo                                        |\n",
    "| ------ | --------------------------------------------- |\n",
    "| 400    | JSON malformado ou quantidade errada de dados |\n",
    "| 500    | Erro interno do modelo ou do processamento    |"
   ]
  },
  {
   "cell_type": "markdown",
   "metadata": {},
   "source": [
    "# 2. Executando a API"
   ]
  },
  {
   "cell_type": "markdown",
   "metadata": {},
   "source": [
    "Para iniciar a API deste projeto, basta executar o script 'app/api_modelo.py'. Esse arquivo utiliza Flask para disponibilizar a API, permitindo a realização de testes com o modelo treinado."
   ]
  },
  {
   "cell_type": "code",
   "execution_count": 8,
   "metadata": {},
   "outputs": [],
   "source": [
    "# Declarando a url de chamado da API\n",
    "\n",
    "url = 'http://127.0.0.1:8000/predict'"
   ]
  },
  {
   "cell_type": "markdown",
   "metadata": {},
   "source": [
    "# 3. Testes"
   ]
  },
  {
   "cell_type": "code",
   "execution_count": null,
   "metadata": {},
   "outputs": [
    {
     "name": "stdout",
     "output_type": "stream",
     "text": [
      "Teste 1: {'prediction': 0.3793753981590271}\n"
     ]
    }
   ],
   "source": [
    "# Teste com JSON em formato correto\n",
    "\n",
    "payload = {\n",
    "    \"data\": [\"trabalho\", \"visita_frequente\", 40, \"casado\", 2, 0, 1, 0, \"particular\", 27.8,\n",
    "             35, \"solteiro\", 0, 1, 1, 1, \"particular\", 23.1]\n",
    "}\n",
    "response = requests.post(url, json=payload)\n",
    "print(\"Teste 1:\", response.json())"
   ]
  },
  {
   "cell_type": "code",
   "execution_count": 15,
   "metadata": {},
   "outputs": [
    {
     "name": "stdout",
     "output_type": "stream",
     "text": [
      "Teste 2: {'prediction': 0.8849464654922485}\n"
     ]
    }
   ],
   "source": [
    "# Teste com JSON em formato correto\n",
    "\n",
    "payload = {\n",
    "    \"data\": [\"trabalho\", \"visita_frequente\", 99, \"divorciado\", 8, 0, 0, 1, \"particular\", 18.0,\n",
    "             5, \"solteiro\", 0, 1, 0, 1, \"particular\", 30.0]\n",
    "}\n",
    "response = requests.post(url, json=payload)\n",
    "print(\"Teste 2:\", response.json())"
   ]
  },
  {
   "cell_type": "code",
   "execution_count": 14,
   "metadata": {},
   "outputs": [
    {
     "name": "stdout",
     "output_type": "stream",
     "text": [
      "Teste 3: {'error': \"JSON deve conter o campo 'data'\"}\n"
     ]
    }
   ],
   "source": [
    "# Teste de JSON inválido (campo 'data' ausente)\n",
    "\n",
    "payload = {\n",
    "    \"input\": [\"trabalho\", \"visita_frequente\", 32, \"solteiro\", 0, 1, 1, 1, \"particular\", 24.5,\n",
    "              29, \"casado\", 1, 0, 1, 0, \"particular\", 22.3]\n",
    "}\n",
    "response = requests.post(url, json=payload)\n",
    "print(\"Teste 3:\", response.json())"
   ]
  },
  {
   "cell_type": "code",
   "execution_count": 13,
   "metadata": {},
   "outputs": [
    {
     "name": "stdout",
     "output_type": "stream",
     "text": [
      "Teste 4: {'error': 'Esperado 18 features, recebido 17'}\n"
     ]
    }
   ],
   "source": [
    "# Teste de JSON inválido (quantidade incorreta de features, 17 ao invés de 18)\n",
    "\n",
    "payload = {\n",
    "    \"data\": [\"amigos\", \"visita_rara\", 32, \"solteiro\", 0, 1, 1, 1, \"publico\", 24.5,\n",
    "             29, \"casado\", 1, 0, 1, 0, \"publico\"]  # Faltando IMC_V2\n",
    "}\n",
    "response = requests.post(url, json=payload)\n",
    "print(\"Teste 4:\", response.json())"
   ]
  },
  {
   "cell_type": "code",
   "execution_count": 12,
   "metadata": {},
   "outputs": [
    {
     "name": "stdout",
     "output_type": "stream",
     "text": [
      "Teste 5: {'error': \"Cannot use mean strategy with non-numeric data:\\ncould not convert string to float: 'trinta e dois'\"}\n"
     ]
    }
   ],
   "source": [
    "# Teste de JSON inválido (idade como string)\n",
    "\n",
    "payload = {\n",
    "    \"data\": [\"amigos\", \"visita_rara\", \"trinta e dois\", \"solteiro\", 0, 1, 1, 1, \"publico\", 24.5,\n",
    "             29, \"casado\", 1, 0, 1, 0, \"publico\", 22.3]\n",
    "}\n",
    "response = requests.post(url, json=payload)\n",
    "print(\"Teste 5:\", response.json())"
   ]
  },
  {
   "cell_type": "code",
   "execution_count": 11,
   "metadata": {},
   "outputs": [
    {
     "name": "stdout",
     "output_type": "stream",
     "text": [
      "Teste 6: {'prediction': 0.35981830954551697}\n"
     ]
    }
   ],
   "source": [
    "# Teste com JSON em formato correto\n",
    "\n",
    "payload = {\n",
    "    \"data\": [\"amigos\", \"visita_rara\", None, \"casado\", 2, 1, 1, 0, \"publico\", None,\n",
    "             35, \"solteiro\", 0, 0, 1, 1, \"publico\", 25.0]\n",
    "}\n",
    "response = requests.post(url, json=payload)\n",
    "print(\"Teste 6:\", response.json())"
   ]
  }
 ],
 "metadata": {
  "kernelspec": {
   "display_name": ".venv",
   "language": "python",
   "name": "python3"
  },
  "language_info": {
   "codemirror_mode": {
    "name": "ipython",
    "version": 3
   },
   "file_extension": ".py",
   "mimetype": "text/x-python",
   "name": "python",
   "nbconvert_exporter": "python",
   "pygments_lexer": "ipython3",
   "version": "3.12.0"
  }
 },
 "nbformat": 4,
 "nbformat_minor": 2
}
